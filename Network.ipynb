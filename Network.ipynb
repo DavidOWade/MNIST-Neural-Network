{
 "cells": [
  {
   "cell_type": "markdown",
   "metadata": {},
   "source": [
    "# MNIST Digit Classification Neural Network\n",
    "---\n",
    "\n",
    "A neural network is a system of interconnected nodes, or artificial neurons that perform some task by learning from a dataset and incrementally improving its own performance. These artificial neurons are organised into multiple layers including an input layer, where data is fed forward through the network's successive layers, until it produces some output in the final layer.\n",
    "\n",
    "Networks \"learn\" by analyzing a dataset of training inputs, where each training example is classified by a label. Through a process called backpropagation, the network adjusts the \"weights\" connecting each neuron (which can be thought of as the synapses connecting neurons in a human brain) based on how close the output produced from traning examples, which classifies each training example, is to the actual classification of those examples. Biases for each neuron are also updated accordingly.\n",
    "\n",
    "### The MNIST Dataset\n",
    "\n",
    "This project produces a neural network that classifies images of handwritten digits ranged from 0-9. These images are gathered from the MNIST database - a large set of images of handwritten digits commonly used for training neural networks like this one. This is my first attempt at building a neural network from scratch and I plan to continually update this project as I improve my code.\n",
    "\n",
    "Each image is input as a 784-dimensional vector, with each vector component representing the greyscale value of a pixel in the image. The network has one hidden layer composed of 25 neurons and a final output layer of 10 neurons. Output in the network can be viewed as the \"activation\" of these output neurons, or the degree to which a neuron is affected by the input of the system. For example, with an input representing the digit 0, the output neuron of index 0 (so, the first neuron) would have a higher value (or activation) associated with it, while other neurons would have comparably lower activations. \n",
    "\n",
    "Here are some other important features about my network:\n",
    "- It uses the sigmoid activation function\n",
    "- The number of epochs (a mini-batch of 100 training examples) and learning rates can be cusomised. These values are set to 800 and 1 by default.\n",
    "- Currently, my network has an average training accuracy of 85%.\n",
    "\n",
    "---\n",
    "\n",
    "The following code implements my neural network"
   ]
  },
  {
   "cell_type": "code",
   "execution_count": 2,
   "metadata": {},
   "outputs": [],
   "source": [
    "import numpy as np\n",
    "import math\n",
    "\n",
    "# Sigmoid activation function returns a value between 0 and 1\n",
    "# based on the degree to which the input varies from 0\n",
    "def sigmoid(x):\n",
    "    if x.size == 1:\n",
    "        return 1 / (1 + math.exp(-x))\n",
    "    else:\n",
    "        return np.array([(1 / (1 + math.exp(-i))) for i in x])\n",
    "\n",
    "def sigmoid_derivative(x):\n",
    "    if x.size == 1:\n",
    "        return math.exp(-x) / ((1 + math.exp(-x))**2)\n",
    "    else:\n",
    "        return np.array([((math.exp(-i))/(1 + math.exp(-i))**2) for i in x])\n",
    "\n",
    "class NNetwork:\n",
    "    # The network is initialised with the training and testing sets as input\n",
    "    def __init__(self, X_train, Y_train, X_test, Y_test):\n",
    "        self.X_train = X_train\n",
    "        self.Y_train = Y_train\n",
    "        self.X_test = X_test\n",
    "        self.Y_test = Y_test\n",
    "        \n",
    "        self.input = np.zeros(784)\n",
    "        self.output = np.zeros(10)\n",
    "        self.y = np.zeros(10)\n",
    "        \n",
    "        # Weights and biases are initialised as random values between -1 and 1\n",
    "        self.weights2 = np.random.uniform(low=-1.0, high=1.0, size=(25,784))\n",
    "        self.weights3 = np.random.uniform(low=-1.0, high=1.0, size=(10,25))\n",
    "        self.bias2 = np.random.uniform(low=-1.0, high=1.0, size=25)\n",
    "        self.bias3 = np.random.uniform(low=-1.0, high=1.0, size=10)\n",
    "    \n",
    "    def train(self, epochs, lr):\n",
    "        for i in range(epochs):\n",
    "            d_weights2 = np.zeros(self.weights2.shape)\n",
    "            d_weights3 = np.zeros(self.weights3.shape)\n",
    "            d_bias2 = np.zeros(self.bias2.shape)\n",
    "            d_bias3 = np.zeros(self.bias3.shape)\n",
    "            for j in range(100):\n",
    "                self.input = self.X_train[(i * 100) + j,:]\n",
    "                self.y[self.Y_train[(i * 100) + j]] = 1\n",
    "                self.feedforward()\n",
    "                updates = self.backprop() # The gradient of the cost function\n",
    "                d_weights2 += updates[0]\n",
    "                d_weights3 += updates[1]\n",
    "                d_bias2 += updates[2]\n",
    "                d_bias3 += updates[3]\n",
    "                self.y = np.zeros(10)\n",
    "            d_weights2 /= 100\n",
    "            d_weights3 /= 100\n",
    "            d_bias2 /= 100\n",
    "            d_bias3 /= 100\n",
    "            \n",
    "            # The average negative value of the change in the cost with respect to the change \n",
    "            # in each weight & bias for 100 training examples is calculated and added to the\n",
    "            # current value of each weight and bias\n",
    "            self.weights2 += -1 * lr * d_weights2\n",
    "            self.weights3 += -1 * lr * d_weights3\n",
    "            self.bias2 += -1 * lr * d_bias2\n",
    "            self.bias3 += -1 * lr * d_bias3\n",
    "        print(\"Training complete!\")\n",
    "    \n",
    "    # This function classifies a single image\n",
    "    def classify(self, x):\n",
    "        self.input = x\n",
    "        self.feedforward()\n",
    "        return np.argmax(self.output)\n",
    "    \n",
    "    def test(self):\n",
    "        acc = 0\n",
    "        for i in range(10000):\n",
    "            x = X_test[i,:]\n",
    "            y = Y_test[i]\n",
    "            yHAT = self.classify(x)\n",
    "            if y == yHAT:\n",
    "                acc += 1\n",
    "        print(\"Testing accuracy: \" + str((acc / 10000) * 100) + \"%\")\n",
    "    \n",
    "    # This function uses the sigmoid activation function to \n",
    "    # feed an input forward, producing the values of the neurons\n",
    "    # in the second layer and the final layer\n",
    "    def feedforward(self):\n",
    "        self.layer2 = sigmoid(np.dot(self.input, self.weights2.T) + self.bias2)\n",
    "        self.output = sigmoid(np.dot(self.layer2, self.weights3.T) + self.bias3)\n",
    "    \n",
    "    # This function calculates the gradient of the cost function, where each\n",
    "    # component of the cost gradient is associated with a single weight or bias\n",
    "    def backprop(self):\n",
    "        d_weights2 = np.zeros(self.weights2.shape)\n",
    "        d_weights3 = np.zeros(self.weights3.shape)\n",
    "        \n",
    "        d_bias2 = np.zeros(self.bias2.shape)\n",
    "        d_bias3 = np.zeros(self.bias3.shape)\n",
    "\n",
    "        d_weights2 = self.input * (sigmoid_derivative(np.dot(self.input, self.weights2.T) + self.bias2)[:, np.newaxis] * np.sum((self.weights3.T * (sigmoid_derivative(np.dot(self.layer2, self.weights3.T) + self.bias3)) * 2 * (self.output - self.y)), axis=1)[:, np.newaxis])\n",
    "        d_weights3 = np.tile(self.layer2,(10,1)) * sigmoid_derivative(np.dot(self.layer2, self.weights3.T) + self.bias3)[:, np.newaxis] * (2 * (self.output - self.y))[:, np.newaxis]\n",
    "        \n",
    "        d_bias2 = sigmoid_derivative(np.dot(self.input, self.weights2.T) + self.bias2) * (d_bias2 + np.sum((self.weights3.T * (sigmoid_derivative(np.dot(self.layer2, self.weights3.T) + self.bias3)) * 2 * (self.output - self.y)), axis=1))\n",
    "        d_bias3 = sigmoid_derivative(np.dot(self.layer2, self.weights3.T) + self.bias3) * (d_bias3 + 2 * (self.output - self.y))\n",
    "        \n",
    "        return d_weights2, d_weights3, d_bias2, d_bias3\n",
    "        \n",
    "        \n",
    "        "
   ]
  },
  {
   "cell_type": "markdown",
   "metadata": {},
   "source": [
    "The following code downloads the mnist dataset and converts it to input for the network. This code is based on hsjeong5's github project [MNIST-for-Numpy](https://github.com/hsjeong5/MNIST-for-Numpy)."
   ]
  },
  {
   "cell_type": "code",
   "execution_count": 8,
   "metadata": {},
   "outputs": [
    {
     "name": "stdout",
     "output_type": "stream",
     "text": [
      "Downloading train-images-idx3-ubyte.gz...\n",
      "Downloading t10k-images-idx3-ubyte.gz...\n",
      "Downloading train-labels-idx1-ubyte.gz...\n",
      "Downloading t10k-labels-idx1-ubyte.gz...\n",
      "Download complete.\n",
      "Save complete.\n"
     ]
    }
   ],
   "source": [
    "import mnist\n",
    "\n",
    "mnist.init()\n",
    "X_train, Y_train, X_test, Y_test = mnist.load()\n",
    "X_train = X_train / 255\n",
    "X_test = X_test / 255"
   ]
  },
  {
   "cell_type": "markdown",
   "metadata": {},
   "source": [
    "The following code uses the above input data to train & test the accuracy of a neural network"
   ]
  },
  {
   "cell_type": "code",
   "execution_count": 9,
   "metadata": {},
   "outputs": [
    {
     "name": "stdout",
     "output_type": "stream",
     "text": [
      "Training complete!\n",
      "Testing accuracy: 81.8%\n"
     ]
    }
   ],
   "source": [
    "network = NNetwork(X_train, Y_train, X_test, Y_test)\n",
    "network.train(600, 1)\n",
    "network.test()"
   ]
  },
  {
   "cell_type": "markdown",
   "metadata": {},
   "source": [
    "Run the code below to test my network on three random images"
   ]
  },
  {
   "cell_type": "code",
   "execution_count": 15,
   "metadata": {},
   "outputs": [
    {
     "name": "stdout",
     "output_type": "stream",
     "text": [
      "Image 5533 value: 7 Classified by network as: 7\n",
      "Image 4278 value: 0 Classified by network as: 0\n",
      "Image 5643 value: 2 Classified by network as: 2\n",
      "Image 9791 value: 0 Classified by network as: 0\n",
      "\n"
     ]
    },
    {
     "data": {
      "image/png": "[encoded data removed]",
      "text/plain": [
       "<Figure size 576x432 with 4 Axes>"
      ]
     },
     "metadata": {
      "needs_background": "light"
     },
     "output_type": "display_data"
    }
   ],
   "source": [
    "import matplotlib.pyplot as plt\n",
    "\n",
    "imgIndex = np.random.randint(low=0, high=10000, size=4)\n",
    "\n",
    "fig = plt.figure(figsize=(8,6))\n",
    "fig.subplots_adjust(wspace=0.3, hspace=0.3)\n",
    "\n",
    "ax1 = fig.add_subplot(221)\n",
    "ax1.set_title(\"Testing image index \" + str(imgIndex[0]))\n",
    "plt.imshow(X_test[imgIndex[0]].reshape(28, 28), cmap='gray')\n",
    "\n",
    "ax2 = fig.add_subplot(222)\n",
    "ax2.set_title(\"Testing image index \" + str(imgIndex[1]))\n",
    "plt.imshow(X_test[imgIndex[1]].reshape(28, 28), cmap='gray')\n",
    "\n",
    "ax3 = fig.add_subplot(223)\n",
    "ax3.set_title(\"Testing image index \" + str(imgIndex[2]))\n",
    "plt.imshow(X_test[imgIndex[2]].reshape(28, 28), cmap='gray')\n",
    "\n",
    "ax4 = fig.add_subplot(224)\n",
    "ax4.set_title(\"Testing image index \" + str(imgIndex[3]))\n",
    "plt.imshow(X_test[imgIndex[3]].reshape(28, 28), cmap='gray')\n",
    "\n",
    "print(\"Image \" + str(imgIndex[0]) + \" value: \" + str(Y_test[imgIndex[0]]) + \" Classified by network as: \" + str(network.classify(X_test[imgIndex[0],:])))\n",
    "print(\"Image \" + str(imgIndex[1]) + \" value: \" + str(Y_test[imgIndex[1]]) + \" Classified by network as: \" + str(network.classify(X_test[imgIndex[1],:])))\n",
    "print(\"Image \" + str(imgIndex[2]) + \" value: \" + str(Y_test[imgIndex[2]]) + \" Classified by network as: \" + str(network.classify(X_test[imgIndex[2],:])))\n",
    "print(\"Image \" + str(imgIndex[3]) + \" value: \" + str(Y_test[imgIndex[3]]) + \" Classified by network as: \" + str(network.classify(X_test[imgIndex[3],:])))\n",
    "print()\n",
    "\n",
    "plt.show()"
   ]
  },
  {
   "cell_type": "code",
   "execution_count": null,
   "metadata": {},
   "outputs": [],
   "source": []
  }
 ],
 "metadata": {
  "kernelspec": {
   "display_name": "Python 3",
   "language": "python",
   "name": "python3"
  },
  "language_info": {
   "codemirror_mode": {
    "name": "ipython",
    "version": 3
   },
   "file_extension": ".py",
   "mimetype": "text/x-python",
   "name": "python",
   "nbconvert_exporter": "python",
   "pygments_lexer": "ipython3",
   "version": "3.7.4"
  }
 },
 "nbformat": 4,
 "nbformat_minor": 4
}
